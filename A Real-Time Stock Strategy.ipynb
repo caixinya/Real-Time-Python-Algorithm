{
 "cells": [
  {
   "cell_type": "markdown",
   "metadata": {},
   "source": [
    "## Bulding a Real-Time Stock Strategy"
   ]
  },
  {
   "cell_type": "code",
   "execution_count": 1,
   "metadata": {},
   "outputs": [],
   "source": [
    "# Python program to get average of a list\n",
    "def average(lst):\n",
    "    return sum(lst) / len(lst)"
   ]
  },
  {
   "cell_type": "code",
   "execution_count": null,
   "metadata": {},
   "outputs": [],
   "source": [
    "class TradingStrategy:\n",
    "    def __init__(self):\n",
    "        self.small_window=deque()\n",
    "        self.large_window=deque()\n",
    "        self.long_signal=False\n",
    "        self.position=0\n",
    "        self.cash=10000\n",
    "        self.total=0\n",
    "        self.holdings=0\n",
    "        self.quantity=0\n",
    "    \n",
    "     def onPriceUpdate(self,price_update):\n",
    "        len_small = len(self.small_window)\n",
    "        len_large = len(self.large_window)\n",
    "        if len_large < 100:\n",
    "            self.large_window.append(price_update['close'])\n",
    "        else:\n",
    "            self.large_window.append(price_update['close'])\n",
    "            self.large_window.popleft()\n",
    "            \n",
    "        if len_small < 49:\n",
    "            self.small_window.append(price_update['close'])\n",
    "        elif len_large == 49:\n",
    "            self.small_window.append(price_update['close'])\n",
    "            if average(self.small_window) > average(self.large_window):\n",
    "                self.long_signal = True\n",
    "            else:\n",
    "                self.long_signal = False\n",
    "            self.checkSignal(price_update)\n",
    "        else:   \n",
    "            self.small_window.append(price_update['close'])\n",
    "            self.small_window.popleft()\n",
    "            if average(self.small_window) > average(self.large_window):\n",
    "                self.long_signal = True\n",
    "            else:\n",
    "                self.long_signal = False\n",
    "            self.checkSignal(price_update)\n",
    "    \n",
    "    def checkSignal(self,price_update):\n",
    "        if self.long_signal == True and self.position == 0:\n",
    "            print(price_update['date']+\" send buy order for 10 shares price=\" + str(price_update['adjprice']))\n",
    "            self.position += 1\n",
    "            self.quantity += 10\n",
    "            self.cash -= 10*price_update['adjprice']\n",
    "        elif self.long_signal == False and self.position > 0:\n",
    "            print(price_update['date']+\" send sell order for 10 shares price=\" + str(price_update['adjprice']))\n",
    "            self.position -= 1\n",
    "            self.quantity -= 10\n",
    "            self.cash += 10*price_update['adjprice']\n",
    "        self.holdings = self.quantity*price_update['adjprice']\n",
    "        self.total = self.cash+self.holdings"
   ]
  },
  {
   "cell_type": "code",
   "execution_count": null,
   "metadata": {},
   "outputs": [],
   "source": [
    " # you should store 50 close prices for the small window\n",
    "        # you should store 100 close prices for the large window\n",
    "        # when the number of close prices is higher than 50, you need to discard the older one (small window)\n",
    "        # when the number of close prices is higher than 100, you need to discard the older one (large window)\n",
    "        # you compare the small window vs the large window\n",
    "        # if small window > large window generate long signal\n",
    "        # if not long signal = false\n",
    "        # Call the function checkSignal"
   ]
  },
  {
   "cell_type": "code",
   "execution_count": null,
   "metadata": {},
   "outputs": [],
   "source": [
    "    # if there is a long signal and the position is 0 \n",
    "        # you should send an order\n",
    "        # for that you will use print, you will display the timestamp and write that you send a buy order\n",
    "        #     example:\n",
    "        #     print(price_update['date'] +\n",
    "        #          \" send buy order for 10 shares price=\" + str(price_update['adjprice']))\n",
    "        # You need to update the position\n",
    "        # You need to update the cash\n",
    "        \n",
    "        # Now if the position is positive and there is no long signal any more\n",
    "        # You need to send a sell order\n",
    "        #    print(price_update['date']+\n",
    "        #          \" send sell order for 10 shares price=\" + str(price_update['adjprice']))\n",
    "        # You need to update the position\n",
    "        # You need to update the cash\n",
    "        \n",
    "        # For each iteration, you need to manage holdings\n",
    "        # For each iteration, you need to know how much in total you have (total=holdings + cash)\n",
    "        # You need to display the following for each iteration"
   ]
  },
  {
   "cell_type": "code",
   "execution_count": null,
   "metadata": {},
   "outputs": [],
   "source": []
  },
  {
   "cell_type": "code",
   "execution_count": null,
   "metadata": {},
   "outputs": [],
   "source": []
  }
 ],
 "metadata": {
  "kernelspec": {
   "display_name": "Python 3",
   "language": "python",
   "name": "python3"
  },
  "language_info": {
   "codemirror_mode": {
    "name": "ipython",
    "version": 3
   },
   "file_extension": ".py",
   "mimetype": "text/x-python",
   "name": "python",
   "nbconvert_exporter": "python",
   "pygments_lexer": "ipython3",
   "version": "3.7.6"
  }
 },
 "nbformat": 4,
 "nbformat_minor": 4
}
