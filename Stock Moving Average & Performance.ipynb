{
 "cells": [
  {
   "cell_type": "markdown",
   "metadata": {},
   "source": [
    "## Stock Moving Average & Performance"
   ]
  },
  {
   "cell_type": "markdown",
   "metadata": {},
   "source": [
    "### Case 1 - Data Exploration"
   ]
  },
  {
   "cell_type": "code",
   "execution_count": null,
   "metadata": {},
   "outputs": [],
   "source": [
    "def case1(financial_data):\n",
    "    print(financial_data.head())\n",
    "    print(financial_data.tail())\n",
    "    print(financial_data.describe())\n",
    "    # Print First 5 rows of MSFT\n",
    "    # Print Last 5 rows of MSFT\n",
    "    # Print Describe MSFT"
   ]
  },
  {
   "cell_type": "code",
   "execution_count": null,
   "metadata": {},
   "outputs": [],
   "source": [
    "import pandas_datareader as pdr\n",
    "import pandas as pd\n",
    "import numpy as np\n",
    "import datetime\n",
    "import calendar"
   ]
  },
  {
   "cell_type": "code",
   "execution_count": null,
   "metadata": {},
   "outputs": [],
   "source": [
    "start_date =  '2001-01-01'\n",
    "end_date = '2017-12-30'\n",
    "\n",
    "MSFT = pdr.get_data_yahoo(\"MSFT\", start = start_date, end = end_date)"
   ]
  },
  {
   "cell_type": "code",
   "execution_count": null,
   "metadata": {},
   "outputs": [],
   "source": [
    "MSFT.head()"
   ]
  },
  {
   "cell_type": "code",
   "execution_count": null,
   "metadata": {},
   "outputs": [],
   "source": [
    "MSFT.index.name"
   ]
  },
  {
   "cell_type": "markdown",
   "metadata": {},
   "source": [
    "### Case 2 - Monthly Average Data"
   ]
  },
  {
   "cell_type": "code",
   "execution_count": null,
   "metadata": {},
   "outputs": [],
   "source": [
    "def case2(MSFT):\n",
    "    def last_day_of_month(any_day):\n",
    "        next_month = any_day.replace(day=28) + datetime.timedelta(days=4)\n",
    "        return next_month - datetime.timedelta(days=next_month.day)\n",
    "    \n",
    "    result = []\n",
    "    for year in range(2001,2018):\n",
    "        for month in range(1, 13):\n",
    "            result.append(str(last_day_of_month(datetime.date(year, month, 1))))\n",
    "            \n",
    "    MSFT['year'] = pd.DatetimeIndex(MSFT.index).year\n",
    "    MSFT['month'] = pd.DatetimeIndex(MSFT.index).month\n",
    "    a = MSFT.groupby(['year','month']).mean()\n",
    "    a.index = result\n",
    "    a.index.name = 'Date'\n",
    "    print(a.head())"
   ]
  },
  {
   "cell_type": "code",
   "execution_count": null,
   "metadata": {},
   "outputs": [],
   "source": [
    "def case2(MSFT):\n",
    "    def Date_index():\n",
    "        year = list(range(2001,2018))\n",
    "        month = list(range(1,13))\n",
    "        result = []\n",
    "        for y in year:\n",
    "            for m in month:\n",
    "                day = calendar.monthlen(y,m)\n",
    "                date = str(datetime.date(y,m,day))\n",
    "                result.append(date)\n",
    "        return(result)\n",
    "            \n",
    "    MSFT['year'] = pd.DatetimeIndex(MSFT.index).year\n",
    "    MSFT['month'] = pd.DatetimeIndex(MSFT.index).month\n",
    "    a = MSFT.groupby(['year','month']).mean()\n",
    "    a.index = Date_index()\n",
    "    a.index.name = 'Date'\n",
    "    print(a.head())"
   ]
  },
  {
   "cell_type": "code",
   "execution_count": null,
   "metadata": {},
   "outputs": [],
   "source": [
    "case2(MSFT)"
   ]
  },
  {
   "cell_type": "markdown",
   "metadata": {},
   "source": [
    "### Case 3 - Daily Close Increase%"
   ]
  },
  {
   "cell_type": "code",
   "execution_count": null,
   "metadata": {},
   "outputs": [],
   "source": [
    "def case3(MSFT):\n",
    "    MSFT['daily_close'] = (MSFT['Adj Close']-MSFT['Adj Close'].shift(1))/MSFT['Adj Close'].shift(1)\n",
    "    MSFT['Adj Close'] = MSFT['daily_close']\n",
    "    print(MSFT[['Adj Close']].iloc[1:,] )"
   ]
  },
  {
   "cell_type": "code",
   "execution_count": null,
   "metadata": {},
   "outputs": [],
   "source": [
    "case3(MSFT)"
   ]
  },
  {
   "cell_type": "markdown",
   "metadata": {},
   "source": [
    "### Case 4 - Cummulative Daily Return"
   ]
  },
  {
   "cell_type": "code",
   "execution_count": null,
   "metadata": {},
   "outputs": [],
   "source": [
    "start_date =  '2001-01-01'\n",
    "end_date = '2017-12-30'\n",
    "\n",
    "MSFT = pdr.get_data_yahoo(\"MSFT\", start = start_date, end = end_date)"
   ]
  },
  {
   "cell_type": "code",
   "execution_count": null,
   "metadata": {},
   "outputs": [],
   "source": [
    "def case4(MSFT):\n",
    "    MSFT['daily_close'] = (MSFT['Adj Close']-MSFT['Adj Close'].shift(1))/MSFT['Adj Close'].shift(1)\n",
    "    MSFT['Commu_Return_D'] = (MSFT['daily_close']+1).cumprod()\n",
    "    MSFT['Adj Close'] = MSFT['Commu_Return_D']\n",
    "    print(MSFT[['Adj Close']].iloc[1:,] )"
   ]
  },
  {
   "cell_type": "code",
   "execution_count": null,
   "metadata": {},
   "outputs": [],
   "source": [
    "case4(MSFT)"
   ]
  },
  {
   "cell_type": "code",
   "execution_count": null,
   "metadata": {},
   "outputs": [],
   "source": [
    "MSFT['year'] = pd.DatetimeIndex(MSFT.index).year\n",
    "MSFT['month'] = pd.DatetimeIndex(MSFT.index).month"
   ]
  },
  {
   "cell_type": "code",
   "execution_count": null,
   "metadata": {},
   "outputs": [],
   "source": [
    "MSFT['daily_close'] = (MSFT['Adj Close']-MSFT['Adj Close'].shift(1))/MSFT['Adj Close'].shift(1)"
   ]
  },
  {
   "cell_type": "code",
   "execution_count": null,
   "metadata": {},
   "outputs": [],
   "source": [
    "MSFT.head()"
   ]
  },
  {
   "cell_type": "code",
   "execution_count": null,
   "metadata": {},
   "outputs": [],
   "source": [
    "MSFT['Commu_Return_D'] = (MSFT['daily_close']+1).cumprod()"
   ]
  },
  {
   "cell_type": "code",
   "execution_count": null,
   "metadata": {},
   "outputs": [],
   "source": [
    "MSFT.head()"
   ]
  },
  {
   "cell_type": "markdown",
   "metadata": {},
   "source": [
    "### Case 5 - Commulative Monthly Return"
   ]
  },
  {
   "cell_type": "code",
   "execution_count": null,
   "metadata": {},
   "outputs": [],
   "source": [
    "def case5(MSFT):\n",
    "    MSFT['year'] = pd.DatetimeIndex(MSFT.index).year\n",
    "    MSFT['month'] = pd.DatetimeIndex(MSFT.index).month\n",
    "    MSFT['daily_close'] = (MSFT['Adj Close']-MSFT['Adj Close'].shift(1))/MSFT['Adj Close'].shift(1)\n",
    "    MSFT['Commu_Return_D'] = (MSFT['daily_close']+1).cumprod()\n",
    "    MSFT['Adj Close'] = MSFT['Commu_Return_D']\n",
    "    Commu_Return_M = MSFT.groupby(['year','month'])[['Adj Close']].mean()\n",
    "    Commu_Return_M.index = Date_index()\n",
    "    Commu_Return_M.index.name = 'Date'\n",
    "    print(Commu_Return_M)"
   ]
  },
  {
   "cell_type": "code",
   "execution_count": null,
   "metadata": {},
   "outputs": [],
   "source": [
    "MSFT.groupby(['year','month'])[['Commu_Return_D']].mean()"
   ]
  },
  {
   "cell_type": "markdown",
   "metadata": {},
   "source": [
    "### Case 6 - Moving Average of 20"
   ]
  },
  {
   "cell_type": "code",
   "execution_count": null,
   "metadata": {},
   "outputs": [],
   "source": [
    "def case6(MSFT):\n",
    "    MSFT['Rolling 20'] = MSFT['Adj Close'].rolling(20).mean()\n",
    "    MSFT['Adj Close'] = MSFT['Rolling 20']\n",
    "    print(MSFT[['Adj Close']])"
   ]
  },
  {
   "cell_type": "code",
   "execution_count": null,
   "metadata": {},
   "outputs": [],
   "source": [
    "MSFT['Rolling 20'] = MSFT['Adj Close'].rolling(20).mean()"
   ]
  },
  {
   "cell_type": "code",
   "execution_count": null,
   "metadata": {},
   "outputs": [],
   "source": [
    "MSFT.tail()"
   ]
  },
  {
   "cell_type": "markdown",
   "metadata": {},
   "source": [
    "### Case 7 - Volatility for a Period of 100"
   ]
  },
  {
   "cell_type": "code",
   "execution_count": null,
   "metadata": {},
   "outputs": [],
   "source": [
    "def case7(MSFT):\n",
    "    MSFT['daily_close'] = (MSFT['Adj Close']-MSFT['Adj Close'].shift(1))/MSFT['Adj Close'].shift(1)\n",
    "    MSFT['Volatility_100'] = MSFT['daily_close'].rolling(100).std()*10\n",
    "    MSFT['Adj Close'] = MSFT['Volatility_100']\n",
    "    print(MSFT[['Adj Close']])"
   ]
  },
  {
   "cell_type": "code",
   "execution_count": null,
   "metadata": {},
   "outputs": [],
   "source": [
    "# https://www.investopedia.com/ask/answers/021015/how-can-you-calculate-volatility-excel.asp"
   ]
  },
  {
   "cell_type": "code",
   "execution_count": null,
   "metadata": {},
   "outputs": [],
   "source": [
    "MSFT['Volatility_100'] = MSFT['daily_close'].rolling(100).std()*10"
   ]
  },
  {
   "cell_type": "markdown",
   "metadata": {},
   "source": [
    "### Case 8 - Signal Strategy"
   ]
  },
  {
   "cell_type": "code",
   "execution_count": null,
   "metadata": {},
   "outputs": [],
   "source": [
    "def case8(MSFT):\n",
    "    MSFT['short_mavg'] = MSFT.Close.rolling(window = 50, min_periods = 1).mean()\n",
    "    MSFT['long_mavg'] = MSFT.Close.rolling(window = 100, min_periods = 1).mean()\n",
    "    MSFT.loc[MSFT['short_mavg'] > MSFT['long_mavg'], 'signal'] = 1\n",
    "    MSFT.loc[MSFT['short_mavg'] <= MSFT['long_mavg'], 'signal'] = 0\n",
    "    MSFT.loc[MSFT['signal']-MSFT['signal'].shift(1)>0, 'orders'] = 1\n",
    "    MSFT.loc[MSFT['signal']-MSFT['signal'].shift(1)<0, 'orders'] = -1\n",
    "    MSFT.loc[MSFT['signal']-MSFT['signal'].shift(1)==0, 'orders'] = 0\n",
    "    print(MSFT[['signal','short_mavg','long_mavg','orders']])"
   ]
  },
  {
   "cell_type": "code",
   "execution_count": null,
   "metadata": {},
   "outputs": [],
   "source": [
    "MSFT.Close.rolling(window = 50, min_periods=1).mean()"
   ]
  },
  {
   "cell_type": "code",
   "execution_count": null,
   "metadata": {},
   "outputs": [],
   "source": [
    "MSFT['short_mavg'] = MSFT.Close.rolling(window = 50, min_periods = 1).mean()\n",
    "MSFT['long_mavg'] = MSFT.Close.rolling(window = 100, min_periods = 1).mean()"
   ]
  },
  {
   "cell_type": "code",
   "execution_count": null,
   "metadata": {},
   "outputs": [],
   "source": [
    "MSFT.loc[MSFT['short_mavg'] > MSFT['long_mavg'], 'signal'] = 1\n",
    "MSFT.loc[MSFT['short_mavg'] <= MSFT['long_mavg'], 'signal'] = 0"
   ]
  },
  {
   "cell_type": "code",
   "execution_count": null,
   "metadata": {},
   "outputs": [],
   "source": [
    "MSFT.loc[MSFT['signal']-MSFT['signal'].shift(1)>0, 'order'] = 1\n",
    "MSFT.loc[MSFT['signal']-MSFT['signal'].shift(1)<0, 'order'] = -1\n",
    "MSFT.loc[MSFT['signal']-MSFT['signal'].shift(1)==0, 'order'] = 0"
   ]
  },
  {
   "cell_type": "code",
   "execution_count": null,
   "metadata": {},
   "outputs": [],
   "source": [
    "MSFT.head()"
   ]
  },
  {
   "cell_type": "markdown",
   "metadata": {},
   "source": [
    "### Case 9 - Protofolio"
   ]
  },
  {
   "cell_type": "code",
   "execution_count": null,
   "metadata": {},
   "outputs": [],
   "source": [
    "# You will need to use the dataframe signals\n",
    "\n",
    "    # You are going to set your initial amount of money you want\n",
    "    # to invest --- here it is 10,000\n",
    "    \n",
    "    # You are going to create a new dataframe positions\n",
    "    # Remember the index is still the same as signals\n",
    "    \n",
    "    # You are going to buy 10 shares of MSFT when signal is 1\n",
    "    # You are going to sell 10 shares of MSFT when signal is -1\n",
    "    # You will assign these values to the column MSFT of the\n",
    "    # dataframe positions\n",
    "    \n",
    "    # You are now going to calculate the notional (quantity x price)\n",
    "    # for your portfolio. You will multiply Adj Close from\n",
    "    # the dataframe containing prices and the positions (10 shares)\n",
    "    # You will store it into the variable portfolio\n",
    "    \n",
    "    # Add `holdings` to portfolio\n",
    "    \n",
    "    # You will store positions.diff into pos_diff\n",
    "    \n",
    "    # You will now add a column cash in your dataframe portfolio\n",
    "    # which will calculate the amount of cash you have\n",
    "    # initial_capital - (the notional you use for your different buy/sell)\n",
    "    \n",
    "    # You will now add a column total to your portfolio calculating the part of holding\n",
    "    # and the part of cash\n",
    "    # Add `returns` to portfolio\n",
    "    # Print the first lines of `portfolio`"
   ]
  },
  {
   "cell_type": "code",
   "execution_count": null,
   "metadata": {},
   "outputs": [],
   "source": [
    "def case9(MSFT):\n",
    "    MSFT['short_mavg'] = MSFT.Close.rolling(window = 50, min_periods = 1).mean()\n",
    "    MSFT['long_mavg'] = MSFT.Close.rolling(window = 100, min_periods = 1).mean()\n",
    "    MSFT.loc[MSFT['short_mavg'] > MSFT['long_mavg'], 'signal'] = 1\n",
    "    MSFT.loc[MSFT['short_mavg'] <= MSFT['long_mavg'], 'signal'] = 0\n",
    "    MSFT.loc[MSFT['signal']-MSFT['signal'].shift(1)>0, 'orders'] = 1\n",
    "    MSFT.loc[MSFT['signal']-MSFT['signal'].shift(1)<0, 'orders'] = -1\n",
    "    MSFT.loc[MSFT['signal']-MSFT['signal'].shift(1)==0, 'orders'] = 0\n",
    "    \n",
    "    portfolio = MSFT[['Adj Close','signal','short_mavg','long_mavg','orders']].copy()\n",
    "    portfolio['orders'] = portfolio['orders'].fillna(0)\n",
    "    portfolio['quantity'] = portfolio['orders'].cumsum().fillna(0)*10\n",
    "    portfolio['MSFT'] = portfolio['quantity']*portfolio['Adj Close']\n",
    "    portfolio['holdings'] = portfolio['MSFT']\n",
    "    portfolio['cash_change'] = -portfolio['orders']*portfolio['Adj Close']*10\n",
    "    portfolio['cash'] = 10000 + portfolio['cash_change'].cumsum()\n",
    "    portfolio['total'] = portfolio['holdings']+portfolio['cash']\n",
    "    portfolio['returns'] = portfolio['total']/portfolio['total'].shift(1)-1\n",
    "    print(portfolio[['MSFT','holdings','cash','total','returns']])"
   ]
  },
  {
   "cell_type": "code",
   "execution_count": null,
   "metadata": {},
   "outputs": [],
   "source": [
    "portfolio = MSFT[['Adj Close','signal','short_mavg','long_mavg','order']].copy()"
   ]
  },
  {
   "cell_type": "code",
   "execution_count": null,
   "metadata": {},
   "outputs": [],
   "source": [
    "portfolio.tail()"
   ]
  },
  {
   "cell_type": "code",
   "execution_count": null,
   "metadata": {},
   "outputs": [],
   "source": [
    "portfolio['quantity'] = portfolio.loc[:,'order'].cumsum().fillna(0)*10\n",
    "portfolio.head()"
   ]
  },
  {
   "cell_type": "code",
   "execution_count": null,
   "metadata": {},
   "outputs": [],
   "source": [
    "portfolio['MSFT'] = portfolio['quantity']*portfolio['Adj Close']\n",
    "portfolio.head()"
   ]
  },
  {
   "cell_type": "code",
   "execution_count": null,
   "metadata": {},
   "outputs": [],
   "source": [
    "portfolio['holdings'] = portfolio['MSFT']\n",
    "portfolio['cash_change'] = -portfolio['order']*portfolio['Adj Close']\n",
    "portfolio['cash'] = 10000 + portfolio['cash_change'].cumsum()"
   ]
  },
  {
   "cell_type": "code",
   "execution_count": null,
   "metadata": {},
   "outputs": [],
   "source": [
    "portfolio.tail()"
   ]
  },
  {
   "cell_type": "code",
   "execution_count": null,
   "metadata": {},
   "outputs": [],
   "source": []
  }
 ],
 "metadata": {
  "kernelspec": {
   "display_name": "Python 3",
   "language": "python",
   "name": "python3"
  },
  "language_info": {
   "codemirror_mode": {
    "name": "ipython",
    "version": 3
   },
   "file_extension": ".py",
   "mimetype": "text/x-python",
   "name": "python",
   "nbconvert_exporter": "python",
   "pygments_lexer": "ipython3",
   "version": "3.7.6"
  }
 },
 "nbformat": 4,
 "nbformat_minor": 4
}
