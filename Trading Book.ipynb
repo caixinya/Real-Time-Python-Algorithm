{
 "cells": [
  {
   "cell_type": "markdown",
   "metadata": {},
   "source": [
    "## Assignment 4 - Trading Book"
   ]
  },
  {
   "cell_type": "markdown",
   "metadata": {},
   "source": [
    "### Filter a Value"
   ]
  },
  {
   "cell_type": "code",
   "execution_count": 3,
   "metadata": {},
   "outputs": [],
   "source": [
    "d_list = [ {'id':1, 'Name': 'Hannah', 'number':150}, \n",
    "         {'id':2, 'Name':'Andrew', 'number':200}, \n",
    "         {'id':3, 'Name':'Joe', 'number':180}, \n",
    "          {'id':3, 'Name':'Joe', 'number':180}]"
   ]
  },
  {
   "cell_type": "code",
   "execution_count": 9,
   "metadata": {},
   "outputs": [],
   "source": [
    "d_list = list(filter(lambda i: i['id'] != 1, d_list))"
   ]
  },
  {
   "cell_type": "code",
   "execution_count": 11,
   "metadata": {},
   "outputs": [
    {
     "data": {
      "text/plain": [
       "[{'id': 2, 'Name': 'Andrew', 'number': 200},\n",
       " {'id': 3, 'Name': 'Joe', 'number': 180},\n",
       " {'id': 3, 'Name': 'Joe', 'number': 180}]"
      ]
     },
     "execution_count": 11,
     "metadata": {},
     "output_type": "execute_result"
    }
   ],
   "source": [
    "d_list"
   ]
  },
  {
   "cell_type": "markdown",
   "metadata": {},
   "source": [
    "### Update a Value"
   ]
  },
  {
   "cell_type": "code",
   "execution_count": 26,
   "metadata": {},
   "outputs": [],
   "source": [
    "for d in d_list:\n",
    "    if d['id'] == 2:\n",
    "        d['Name'] = 'Olivia'"
   ]
  },
  {
   "cell_type": "code",
   "execution_count": 27,
   "metadata": {},
   "outputs": [
    {
     "data": {
      "text/plain": [
       "[{'id': 2, 'Name': 'Olivia', 'number': 200},\n",
       " {'id': 3, 'Name': 'Joe', 'number': 180},\n",
       " {'id': 3, 'Name': 'Joe', 'number': 180}]"
      ]
     },
     "execution_count": 27,
     "metadata": {},
     "output_type": "execute_result"
    }
   ],
   "source": [
    "d_list"
   ]
  },
  {
   "cell_type": "code",
   "execution_count": 35,
   "metadata": {},
   "outputs": [
    {
     "data": {
      "text/plain": [
       "{'id': 2, 'Name': 'Olivia', 'number': 200}"
      ]
     },
     "execution_count": 35,
     "metadata": {},
     "output_type": "execute_result"
    }
   ],
   "source": [
    "d_list[0]"
   ]
  },
  {
   "cell_type": "code",
   "execution_count": 66,
   "metadata": {},
   "outputs": [
    {
     "data": {
      "text/plain": [
       "[2, 'Olivia', 200]"
      ]
     },
     "execution_count": 66,
     "metadata": {},
     "output_type": "execute_result"
    }
   ],
   "source": [
    "list(d_list[0].values())"
   ]
  },
  {
   "cell_type": "markdown",
   "metadata": {},
   "source": [
    "## Code"
   ]
  },
  {
   "cell_type": "markdown",
   "metadata": {},
   "source": [
    "### New Orders"
   ]
  },
  {
   "cell_type": "code",
   "execution_count": null,
   "metadata": {},
   "outputs": [],
   "source": [
    "def handle_new(self,o):\n",
    "    if o['side'] == 'bid':\n",
    "        self.list_bids.append(o)\n",
    "        self.list_bids.sort(key = lambda x: x['price'],reverse = True)\n",
    "        self.orders[o['id']] = o\n",
    "    else:\n",
    "        self.list_asks.append(o)\n",
    "        self.list_asks.sort(key = lambda x: x['price'],reverse = False)\n",
    "        self.orders[o['id']] = o"
   ]
  },
  {
   "cell_type": "markdown",
   "metadata": {},
   "source": [
    "### Modify Orders"
   ]
  },
  {
   "cell_type": "code",
   "execution_count": null,
   "metadata": {},
   "outputs": [],
   "source": [
    "def handle_modify(self,o):\n",
    "    ids_bid = []\n",
    "    for ids in self.list_bids:\n",
    "        ids_bid.append(ids['id'])\n",
    "    if o['id'] in ids_bid:\n",
    "        for i in self.list_bids:\n",
    "            if i['id'] == o['id']:\n",
    "                i['quantity'] == o['quantity']\n",
    "    else:\n",
    "        for i in self.list_asks:\n",
    "            if i['id'] == o['id']:\n",
    "                i['quantity'] == o['quantity']\n",
    "    self.orders[o['id']]['quantity'] = o['quantity']"
   ]
  },
  {
   "cell_type": "markdown",
   "metadata": {},
   "source": [
    "### Delete Orders"
   ]
  },
  {
   "cell_type": "code",
   "execution_count": null,
   "metadata": {},
   "outputs": [],
   "source": [
    "def handle_delete(self,o):\n",
    "    self.list_bids=list(filter(lambda i: i['id']!=o['id'], self.list_bids))\n",
    "    self.list_asks = list(filter(lambda i: i['id'] != o['id'], self.list_asks))\n",
    "    del self.orders[o['id']]"
   ]
  },
  {
   "cell_type": "code",
   "execution_count": null,
   "metadata": {},
   "outputs": [],
   "source": []
  }
 ],
 "metadata": {
  "kernelspec": {
   "display_name": "Python 3",
   "language": "python",
   "name": "python3"
  },
  "language_info": {
   "codemirror_mode": {
    "name": "ipython",
    "version": 3
   },
   "file_extension": ".py",
   "mimetype": "text/x-python",
   "name": "python",
   "nbconvert_exporter": "python",
   "pygments_lexer": "ipython3",
   "version": "3.7.6"
  }
 },
 "nbformat": 4,
 "nbformat_minor": 4
}
