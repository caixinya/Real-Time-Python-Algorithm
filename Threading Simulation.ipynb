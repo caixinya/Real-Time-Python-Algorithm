{
 "cells": [
  {
   "cell_type": "code",
   "execution_count": 1,
   "metadata": {},
   "outputs": [],
   "source": [
    "import math\n",
    "import os\n",
    "import random\n",
    "import re\n",
    "import sys"
   ]
  },
  {
   "cell_type": "code",
   "execution_count": 2,
   "metadata": {},
   "outputs": [],
   "source": [
    "temp_bank_account = 0\n",
    "seb_bank_account = 0\n",
    "nic_bank_account = 0\n",
    "current_thread = \"\"\n",
    "seb_thread_acq = False\n",
    "nic_thread_acq = False"
   ]
  },
  {
   "cell_type": "code",
   "execution_count": 3,
   "metadata": {},
   "outputs": [],
   "source": [
    "class lock():\n",
    "    def __init__(self):\n",
    "        self.lock_flag = False\n",
    "        self.thread_acq = \"\"\n",
    "    def acquire(self):\n",
    "        global current_thread\n",
    "        if self.lock_flag == False:\n",
    "            self.lock_flag = True\n",
    "            self.thread_acq = current_thread\n",
    "        else:\n",
    "            return \"Locked\"\n",
    "    def release(self):\n",
    "        self.lock_flag = False\n",
    "        self.thread_acq = \"\"\n",
    "## This one has a lock acquire and release function: lock.acquire, lock.release"
   ]
  },
  {
   "cell_type": "code",
   "execution_count": 4,
   "metadata": {},
   "outputs": [],
   "source": [
    "bank_account = 0\n",
    "var_lock = lock()"
   ]
  },
  {
   "cell_type": "code",
   "execution_count": 5,
   "metadata": {},
   "outputs": [],
   "source": [
    "def seb_thread():\n",
    "    global var_lock\n",
    "    global temp_bank_account\n",
    "    global bank_account\n",
    "    if not var_lock.lock_flag or (var_lock.lock_flag and var_lock.thread_acq == \"Seb\"):\n",
    "        temp_bank_account = seb_bank_account + 1\n",
    "        return 0\n",
    "    else:\n",
    "        return 1\n",
    "# when (not locked) or (Seb is locked)"
   ]
  },
  {
   "cell_type": "code",
   "execution_count": 8,
   "metadata": {},
   "outputs": [],
   "source": [
    "def nic_thread():\n",
    "    global var_lock\n",
    "    global temp_bank_account\n",
    "    global bank_account\n",
    "    if not var_lock.lock_flag or (var_lock.lock_flag and var_lock.thread_acq == \"Nic\"):\n",
    "        temp_bank_account = nic_bank_account - 1\n",
    "        return 0\n",
    "    else:\n",
    "        return 1"
   ]
  },
  {
   "cell_type": "code",
   "execution_count": 9,
   "metadata": {},
   "outputs": [],
   "source": [
    "def update_thread():\n",
    "    global bank_account\n",
    "    global temp_bank_account\n",
    "    bank_account = temp_bank_account"
   ]
  },
  {
   "cell_type": "code",
   "execution_count": 10,
   "metadata": {},
   "outputs": [],
   "source": [
    "def thread_acquire_var(user):\n",
    "    global seb_bank_account\n",
    "    global nic_bank_account\n",
    "    global bank_account\n",
    "    global var_lock\n",
    "    if user == \"Seb\":\n",
    "        if (var_lock.lock_flag and var_lock.thread_acq == \"Seb\") or not var_lock.lock_flag:\n",
    "            seb_bank_account = bank_account\n",
    "            return \"Seb\" # when (Seb is locked) or (not locked)\n",
    "        else:\n",
    "            return \"Locked\" # when (Nic is locked)\n",
    "    else:\n",
    "        if (var_lock.lock_flag and var_lock.thread_acq == \"Nic\") or not var_lock.lock_flag:\n",
    "            nic_bank_account = bank_account\n",
    "            return \"Nic\" # when (Nic is locked) or (not locked)\n",
    "        else:\n",
    "            return \"Locked\" # when (Seb is locked)"
   ]
  },
  {
   "cell_type": "code",
   "execution_count": 11,
   "metadata": {},
   "outputs": [],
   "source": [
    "def run_thread(seb_runs, nic_runs):\n",
    "    if seb_runs == 0:\n",
    "        return \"Nic\"\n",
    "    if nic_runs == 0:\n",
    "        return \"Seb\"\n",
    "    rnd = random.random()\n",
    "    if rnd > 0.5:\n",
    "        return \"Seb\"\n",
    "    else:\n",
    "        return \"Nic\""
   ]
  },
  {
   "cell_type": "markdown",
   "metadata": {},
   "source": [
    "## Main Code"
   ]
  },
  {
   "cell_type": "code",
   "execution_count": 15,
   "metadata": {},
   "outputs": [],
   "source": [
    "global bank_account\n",
    "global seb_thread_acq\n",
    "global nic_thread_acq\n",
    "global var_lock\n",
    "global current_thread\n",
    "    \n",
    "seb_runs = seb\n",
    "nic_runs = nic"
   ]
  },
  {
   "cell_type": "code",
   "execution_count": 14,
   "metadata": {},
   "outputs": [
    {
     "name": "stdout",
     "output_type": "stream",
     "text": [
      "4\n",
      "3\n"
     ]
    }
   ],
   "source": [
    "seb = int(input().strip())\n",
    "nic = int(input().strip())"
   ]
  },
  {
   "cell_type": "code",
   "execution_count": null,
   "metadata": {},
   "outputs": [],
   "source": [
    "while seb_runs > 0 or nic_runs > 0:\n",
    "        \n",
    "        current_thread = run_thread(seb_runs, nic_runs) #determine who's name\n",
    "        \n",
    "        var_status = thread_acquire_var(current_thread) #return the name is using the account,\n",
    "        # who's bank account = bank acount , or if Locked\n",
    "        \n",
    "        if var_status == \"Locked\":\n",
    "            continue # get back to the while loop\n",
    "        \n",
    "        if current_thread == \"Seb\":\n",
    "            if seb_thread_acq == False:\n",
    "                var_lock.aquire()\n",
    "                seb_runs += seb_thread() #not locked 0, temp_bank_account = seb_bank_account + 1, locked 1\n",
    "                seb_thread_acq = True\n",
    "                continue # get back to the while loop\n",
    "            else:\n",
    "                update_thread()#bank_account = temp_bank_account\n",
    "                var_lock.release()\n",
    "                seb_thread_acq = False\n",
    "                seb_runs -= 1\n",
    "        else:\n",
    "            if nic_thread_acq == False:\n",
    "                var_lock.aquire()\n",
    "                nic_runs += nic_thread() #not locked 0, temp_bank_account = nic_bank_account - 1, locked 1\n",
    "                nic_thread_acq = True\n",
    "                continue # get back to the while loop\n",
    "            else:\n",
    "                update_thread()\n",
    "                var_lock.release()\n",
    "                nic_thread_acq = False\n",
    "                nic_runs -= 1\n",
    "    \n",
    "    return bank_account"
   ]
  },
  {
   "cell_type": "code",
   "execution_count": null,
   "metadata": {},
   "outputs": [],
   "source": []
  }
 ],
 "metadata": {
  "kernelspec": {
   "display_name": "Python 3",
   "language": "python",
   "name": "python3"
  },
  "language_info": {
   "codemirror_mode": {
    "name": "ipython",
    "version": 3
   },
   "file_extension": ".py",
   "mimetype": "text/x-python",
   "name": "python",
   "nbconvert_exporter": "python",
   "pygments_lexer": "ipython3",
   "version": "3.7.6"
  }
 },
 "nbformat": 4,
 "nbformat_minor": 4
}
