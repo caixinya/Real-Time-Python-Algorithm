{
 "cells": [
  {
   "cell_type": "markdown",
   "metadata": {},
   "source": [
    "## Circular Linked List"
   ]
  },
  {
   "cell_type": "code",
   "execution_count": 1,
   "metadata": {},
   "outputs": [],
   "source": [
    "import math\n",
    "import os\n",
    "import random\n",
    "import re\n",
    "import sys\n",
    "import time\n",
    "\n",
    "random.seed(123)\n",
    "k_bit = 32"
   ]
  },
  {
   "cell_type": "code",
   "execution_count": null,
   "metadata": {},
   "outputs": [],
   "source": [
    "https://github.com/yannikkumar/msca32019/blob/main/a6%20-%20Distributed%20Hash%20Table%20(Chord%20Algorithm)/chord.py"
   ]
  },
  {
   "cell_type": "code",
   "execution_count": null,
   "metadata": {},
   "outputs": [],
   "source": [
    "def setup1():\n",
    "    arr = [x for x in range(0, 2 ** 5)]\n",
    "    cll = CircularLinkedList()\n",
    "    for i in range(len(arr)):\n",
    "        temp = Node(arr[i])\n",
    "        cll.sorted_insert(temp)\n",
    "    current = cll.head\n",
    "    while True:\n",
    "        update(current)\n",
    "        current = current.next\n",
    "        if current == cll.head: break\n",
    "    return cll\n",
    "\n",
    "\n",
    "def case1(fptr):\n",
    "    node = Node({}, k_bit)\n",
    "    fptr.write(str(node.id) + '\\n')\n",
    "    fptr.write(str(node.data) + '\\n') \n",
    "    fptr.write(str(node.next) + '\\n')\n",
    "    fptr.write(str(node.finger) + '\\n')\n",
    "    \n",
    "def case2(fptr):\n",
    "    cll = CircularLinkedList()\n",
    "    fptr.write(str(cll.head) + '\\n')\n",
    "    l = [cll.sorted_insert(Node({}, k_bit)) for x in range(10)]\n",
    "    cllist = cll.get_list()\n",
    "    for e in cllist:\n",
    "        for d in e:\n",
    "            fptr.write(str(d) + ' ')\n",
    "        fptr.write('\\n')\n",
    "        \n",
    "def case4(fptr):\n",
    "    d1 = distance(10, 10)\n",
    "    d2 = distance(10, 100)\n",
    "    d3 = distance(100, 10)\n",
    "    fptr.write(str(d1) + '\\n')\n",
    "    fptr.write(str(d2) + '\\n')\n",
    "    fptr.write(str(d3) + '\\n')\n",
    "    \n",
    "def case5(fptr):\n",
    "    cll = CircularLinkedList()\n",
    "    l = [cll.sorted_insert(Node({}, k_bit)) for x in range(10)]\n",
    "    node = find_node(cll.head, 462568970)\n",
    "    fptr.write(str(node.id) + '\\n')\n",
    "    fptr.write(str(node.data) + '\\n')\n",
    "    fptr.write(str(node.next.id) + '\\n')\n",
    "    \n",
    "def case6(fptr):\n",
    "    cll = CircularLinkedList()\n",
    "    l = [cll.sorted_insert(Node({}, k_bit)) for x in range(10)]\n",
    "    store(cll.head, 1606153229, 4)\n",
    "    value = lookup(cll.head, 1606153229)\n",
    "    fptr.write(str(value) + '\\n')\n",
    "    \n",
    "def case7(fptr):\n",
    "    # tests speed of regular insert\n",
    "    arr = [x for x in range(0, 2 ** 12)]\n",
    "    start = CircularLinkedList()\n",
    "    start_time = time.time()\n",
    "    for i in range(len(arr)):\n",
    "        temp = Node(arr[i])\n",
    "        start.sorted_insert(temp)\n",
    "    process_time = time.time() - start_time\n",
    "    print(\"SortedInsert took {} seconds\".format(process_time))\n",
    "    \n",
    "def case8(fptr):\n",
    "    cll = setup1()\n",
    "    node = find_node(cll.head, 344973245)\n",
    "    fptr.write(str(node.data)+'\\n')\n",
    "    n28 = node.finger[28]\n",
    "    n30 = node.finger[30]\n",
    "    fptr.write(str(n28.data)+ '\\n')\n",
    "    fptr.write(str(n30.data) + '\\n')\n",
    "    \n",
    "def case9(fptr):\n",
    "    cll = setup1()\n",
    "    value = finger_lookup(cll.head, 344973245)\n",
    "    fptr.write(str(value)+'\\n')\n",
    "    new_k = 2415140493\n",
    "    finger_store(cll.head, new_k, 701)\n",
    "    val = finger_lookup(cll.head, new_k)\n",
    "    fptr.write(str(val) + '\\n')\n",
    "    node = find_node(cll.head, new_k)\n",
    "    fptr.write(str(node.data) + '\\n')\n",
    "    fptr.write(str(node.id) + '\\n')"
   ]
  },
  {
   "cell_type": "code",
   "execution_count": null,
   "metadata": {},
   "outputs": [],
   "source": [
    "class Node:\n",
    "    # implement here. see case1 below for required attributes\n",
    "    def __init__(self, data, k=k_bit):\n",
    "        self.id = random.getrandbits(k)\n",
    "        self.data = data\n",
    "        self.next = None\n",
    "        self.finger = None"
   ]
  },
  {
   "cell_type": "code",
   "execution_count": null,
   "metadata": {},
   "outputs": [],
   "source": [
    "class CircularLinkedList:\n",
    "    def __init__(self):\n",
    "        self.head = None\n",
    "    # implement here. see case 2 below for required attribute\n",
    "    def sorted_insert(self, temp):\n",
    "        current = self.head\n",
    "        if current is None:\n",
    "            self.head = temp\n",
    "            temp.next = temp\n",
    "        elif temp.data <= current.data:\n",
    "            while current.next != self.head:\n",
    "                current = current.next\n",
    "            current.next = temp\n",
    "            temp.next = self.head\n",
    "            self.head = temp\n",
    "        else:\n",
    "            while temp.data > current.next.data and current.next != self.head:\n",
    "                current = current.next\n",
    "            temp.next = current.next\n",
    "            current.next = temp"
   ]
  },
  {
   "cell_type": "code",
   "execution_count": null,
   "metadata": {},
   "outputs": [],
   "source": [
    "    \n",
    "def case2(fptr):\n",
    "    cll = CircularLinkedList()\n",
    "    fptr.write(str(cll.head) + '\\n')\n",
    "    l = [cll.sorted_insert(Node({}, k_bit)) for x in range(10)]\n",
    "    cllist = cll.get_list()\n",
    "    for e in cllist:\n",
    "        for d in e:\n",
    "            fptr.write(str(d) + ' ')\n",
    "        fptr.write('\\n')"
   ]
  },
  {
   "cell_type": "code",
   "execution_count": 4,
   "metadata": {},
   "outputs": [],
   "source": [
    "cll = CircularLinkedList()"
   ]
  },
  {
   "cell_type": "code",
   "execution_count": 5,
   "metadata": {},
   "outputs": [],
   "source": [
    " l = [cll.sorted_insert(Node({}, k_bit)) for x in range(10)]"
   ]
  },
  {
   "cell_type": "code",
   "execution_count": 7,
   "metadata": {},
   "outputs": [
    {
     "data": {
      "text/plain": [
       "32"
      ]
     },
     "execution_count": 7,
     "metadata": {},
     "output_type": "execute_result"
    }
   ],
   "source": [
    "a = k_bit\n",
    "a"
   ]
  },
  {
   "cell_type": "code",
   "execution_count": 8,
   "metadata": {},
   "outputs": [],
   "source": [
    "node = Node({}, k_bit)"
   ]
  },
  {
   "cell_type": "code",
   "execution_count": 13,
   "metadata": {},
   "outputs": [
    {
     "data": {
      "text/plain": [
       "int"
      ]
     },
     "execution_count": 13,
     "metadata": {},
     "output_type": "execute_result"
    }
   ],
   "source": [
    "node.id"
   ]
  },
  {
   "cell_type": "markdown",
   "metadata": {},
   "source": [
    "## Node"
   ]
  },
  {
   "cell_type": "code",
   "execution_count": 2,
   "metadata": {},
   "outputs": [],
   "source": [
    "class Node:\n",
    "    def __init__(self, data, k=k_bit):\n",
    "        self.id = random.getrandbits(k)\n",
    "        self.data = data\n",
    "        self.next = None\n",
    "        self.finger = {}"
   ]
  },
  {
   "cell_type": "code",
   "execution_count": 3,
   "metadata": {},
   "outputs": [],
   "source": [
    "class CircularLinkedList:\n",
    "    def __init__(self):\n",
    "        self.head = None\n",
    "        self.node_list = []\n",
    "        self.count_index = 0\n",
    "    def sorted_insert(self, temp):\n",
    "        current = self.head\n",
    "        if current is None:\n",
    "            self.head = temp\n",
    "            temp.next = temp\n",
    "            self.node_list.append(temp)\n",
    "        elif temp.id <= current.id:\n",
    "            while current.next != self.head:\n",
    "                current = current.next\n",
    "            current.next = temp\n",
    "            temp.next = self.head\n",
    "            self.head = temp\n",
    "            self.node_list.insert(0,temp)\n",
    "        else:\n",
    "            while (temp.id > current.next.id and current.next != self.head):\n",
    "                current = current.next\n",
    "                self.count_index += 1\n",
    "            temp.next = current.next\n",
    "            current.next = temp\n",
    "            self.node_list.insert(self.count_index,temp)\n",
    "\n",
    "    def get_list(self):\n",
    "        self.nodes = []\n",
    "        for i in self.node_list:\n",
    "            self.nodes.append([i.id, i.data, i.finger])\n",
    "        return self.nodes"
   ]
  },
  {
   "cell_type": "code",
   "execution_count": null,
   "metadata": {},
   "outputs": [],
   "source": [
    "class CircularLinkedList:\n",
    "    def __init__(self):\n",
    "        self.head = None\n",
    "        self.node_list = []\n",
    "        self.node_id = []\n",
    "    def sorted_insert(self, temp):\n",
    "        current = self.head\n",
    "        if current is None:\n",
    "            self.head = temp\n",
    "            temp.next = temp\n",
    "        elif temp.id <= current.id:\n",
    "            while current.next != self.head:\n",
    "                current = current.next\n",
    "            current.next = temp\n",
    "            temp.next = self.head\n",
    "            self.head = temp\n",
    "        else:\n",
    "            while (temp.id > current.id and current.next != self.head):\n",
    "                current = current.next\n",
    "            temp.next = current.next\n",
    "            current.next = temp\n",
    "        self.node_id.append(temp.id)\n",
    "        self.node_list.append(temp)\n",
    "\n",
    "    def get_list(self):\n",
    "        self.nodes = []\n",
    "        self.node_id = sorted(self.node_id)\n",
    "        index = 0\n",
    "        for i in self.node_id:\n",
    "            for n in self.node_list:\n",
    "                if n.id == i:\n",
    "                    self.nodes.append([n.id, n.data, n.finger])\n",
    "        return self.nodes"
   ]
  },
  {
   "cell_type": "code",
   "execution_count": null,
   "metadata": {},
   "outputs": [],
   "source": [
    "def distance(a, b, k=k_bit):\n",
    "    if a == b:\n",
    "        return 0\n",
    "    elif b > a:\n",
    "        return b-a\n",
    "    else:\n",
    "        return (pow(2,k_bit)-(a-b))"
   ]
  },
  {
   "cell_type": "code",
   "execution_count": null,
   "metadata": {},
   "outputs": [],
   "source": [
    "def find_node(start, key):\n",
    "    while start.id != key:\n",
    "        start = start.next\n",
    "    return start"
   ]
  },
  {
   "cell_type": "code",
   "execution_count": null,
   "metadata": {},
   "outputs": [],
   "source": [
    "def store(start, key, value):\n",
    "    node = find_node(start,key)\n",
    "    node.data = value\n",
    "    return value"
   ]
  },
  {
   "cell_type": "code",
   "execution_count": null,
   "metadata": {},
   "outputs": [],
   "source": [
    "def lookup(start, key):\n",
    "    node = find_node(start,key)\n",
    "    return node.data"
   ]
  }
 ],
 "metadata": {
  "kernelspec": {
   "display_name": "Python 3",
   "language": "python",
   "name": "python3"
  },
  "language_info": {
   "codemirror_mode": {
    "name": "ipython",
    "version": 3
   },
   "file_extension": ".py",
   "mimetype": "text/x-python",
   "name": "python",
   "nbconvert_exporter": "python",
   "pygments_lexer": "ipython3",
   "version": "3.7.6"
  }
 },
 "nbformat": 4,
 "nbformat_minor": 4
}
