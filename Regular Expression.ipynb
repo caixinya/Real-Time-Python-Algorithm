{
 "cells": [
  {
   "cell_type": "markdown",
   "metadata": {},
   "source": [
    "## Regular Expression"
   ]
  },
  {
   "cell_type": "code",
   "execution_count": null,
   "metadata": {},
   "outputs": [],
   "source": [
    "# '+' matches one or more times\n",
    "# '*' matches zero or more times\n",
    "# ? match either once or zero times\n",
    "# {m,n} at least m repetitions, at most n\n",
    "# \\w Matches any alphanumeric character; this is equivalent to the class [a-zA-Z0-9_]"
   ]
  },
  {
   "cell_type": "code",
   "execution_count": 1,
   "metadata": {},
   "outputs": [],
   "source": [
    "import re"
   ]
  },
  {
   "cell_type": "markdown",
   "metadata": {},
   "source": [
    "### 1. Check Valid Email"
   ]
  },
  {
   "cell_type": "code",
   "execution_count": null,
   "metadata": {},
   "outputs": [],
   "source": [
    "regularExpression = '^[a-z]{1,6}[_]?[0-9]{0,4}[@hackerrank.com]+$'"
   ]
  },
  {
   "cell_type": "markdown",
   "metadata": {},
   "source": [
    "### 2. Check if Password is valid"
   ]
  },
  {
   "cell_type": "code",
   "execution_count": 2,
   "metadata": {},
   "outputs": [],
   "source": [
    "def is_password_allowed(string):\n",
    "    password = '[a-zA-Z0-9]{32,10000}$'\n",
    "    if(re.match(password,string)):\n",
    "        return True\n",
    "    else:\n",
    "        return False"
   ]
  },
  {
   "cell_type": "code",
   "execution_count": 3,
   "metadata": {},
   "outputs": [
    {
     "name": "stdout",
     "output_type": "stream",
     "text": [
      "True\n",
      "False\n",
      "True\n",
      "False\n",
      "False\n"
     ]
    }
   ],
   "source": [
    "print(is_password_allowed(\"Dammedthispythonclassisnotoverye\"))\n",
    "print(is_password_allowed(\"Dammedthispythonclassisnotovery\"))\n",
    "print(is_password_allowed(\"Dammedthispythonclassisnoe4324234tovery\"))\n",
    "print(is_password_allowed(\"Damme$#dthispythonclassisnoe4324234tovery\"))\n",
    "print(is_password_allowed(\"Damme$#dthispythonclassisnoe4324234to@very\"))"
   ]
  },
  {
   "cell_type": "markdown",
   "metadata": {},
   "source": [
    "### 3. Check the position of a pattern"
   ]
  },
  {
   "cell_type": "code",
   "execution_count": 10,
   "metadata": {},
   "outputs": [],
   "source": [
    "import json\n",
    "\n",
    "def find_position_of_a_string(pattern,text):\n",
    "    research_match = re.search(pattern,text)\n",
    "    if research_match != None:\n",
    "        return ('Found '+json.dumps(pattern)+' at '+str(research_match.start())\n",
    "        +':'+str(research_match.end()))\n",
    "    else:\n",
    "        return('None')"
   ]
  },
  {
   "cell_type": "markdown",
   "metadata": {},
   "source": [
    "### 4. Find words with size"
   ]
  },
  {
   "cell_type": "code",
   "execution_count": 65,
   "metadata": {},
   "outputs": [],
   "source": [
    "def find_all_the_words_with_the_size(n,text):\n",
    "    words = re.findall(r'\\b\\w+\\b', text)\n",
    "    result = []\n",
    "    for i in words:\n",
    "        if len(i) == n:\n",
    "            result.append(i)\n",
    "    return result"
   ]
  },
  {
   "cell_type": "code",
   "execution_count": 66,
   "metadata": {},
   "outputs": [
    {
     "name": "stdout",
     "output_type": "stream",
     "text": [
      "['Pytho', 'Sebas', 'Pytho', 'short']\n",
      "['without', 'without']\n",
      "['Seb', 'all', 'his', 'for', 'and', 'get', 'job']\n"
     ]
    }
   ],
   "source": [
    "print(find_all_the_words_with_the_size(5,'Python is better than Pytho. Sebas prefers Pytho. It is short'))\n",
    "print(find_all_the_words_with_the_size(7,'Christmas without Python is like Santa Claus without gifts'))\n",
    "print(find_all_the_words_with_the_size(3, 'Seb will miss all his students for Christmas and he will hope that they will get job'))"
   ]
  },
  {
   "cell_type": "code",
   "execution_count": 59,
   "metadata": {},
   "outputs": [],
   "source": [
    "poesie_francaise=\"\"\"Le présent se fait vide et triste,\n",
    "Ô mon amie, autour de nous ;\n",
    "Combien peu de passé subsiste !\n",
    "Et ceux qui restent changent tous.\n",
    "\n",
    "Nous ne voyons plus sans envie\n",
    "Les yeux de vingt ans resplendir,\n",
    "Et combien sont déjà sans vie\n",
    "Des yeux qui nous ont vus grandir !\n",
    "\n",
    "Que de jeunesse emporte l'heure,\n",
    "Qui n'en rapporte jamais rien !\n",
    "Pourtant quelque chose demeure :\n",
    "Je t'aime avec mon cœur ancien,\n",
    "\n",
    "Mon vrai cœur, celui qui s'attache\n",
    "Et souffre depuis qu'il est né,\n",
    "Mon cœur d'enfant, le cœur sans tache\n",
    "Que ma mère m'avait donné ;\n",
    "\n",
    "Ce cœur où plus rien ne pénètre,\n",
    "D'où plus rien désormais ne sort ;\n",
    "Je t'aime avec ce que mon être\n",
    "A de plus fort contre la mort ;\n",
    "\n",
    "Et, s'il peut braver la mort même,\n",
    "Si le meilleur de l'homme est tel\n",
    "Que rien n'en périsse, je t'aime\n",
    "Avec ce que j'ai d'immortel.    \"\"\""
   ]
  },
  {
   "cell_type": "code",
   "execution_count": 67,
   "metadata": {},
   "outputs": [
    {
     "name": "stdout",
     "output_type": "stream",
     "text": [
      "['Le', 'se', 'et', 'de', 'de', 'Et', 'ne', 'de', 'Et', 'de', 'en', 'Je', 'Et', 'qu', 'il', 'né', 'le', 'ma', 'Ce', 'où', 'ne', 'où', 'ne', 'Je', 'ce', 'de', 'la', 'Et', 'il', 'la', 'Si', 'le', 'de', 'en', 'je', 'ce', 'ai']\n",
      "['mon', 'peu', 'qui', 'Les', 'ans', 'vie', 'Des', 'qui', 'ont', 'vus', 'Que', 'Qui', 'mon', 'Mon', 'qui', 'est', 'Mon', 'Que', 'que', 'mon', 'est', 'tel', 'Que', 'que']\n",
      "['fait', 'vide', 'amie', 'nous', 'ceux', 'tous', 'Nous', 'plus', 'sans', 'yeux', 'sont', 'déjà', 'sans', 'yeux', 'nous', 'rien', 'aime', 'avec', 'cœur', 'vrai', 'cœur', 'cœur', 'cœur', 'sans', 'mère', 'cœur', 'plus', 'rien', 'plus', 'rien', 'sort', 'aime', 'avec', 'être', 'plus', 'fort', 'mort', 'peut', 'mort', 'même', 'rien', 'aime', 'Avec']\n",
      "['passé', 'envie', 'vingt', 'heure', 'chose', 'celui', 'tache', 'avait', 'donné', 'homme']\n",
      "['triste', 'autour', 'voyons', 'jamais', 'ancien', 'depuis', 'enfant', 'contre', 'braver']\n",
      "['présent', 'Combien', 'restent', 'combien', 'grandir', 'emporte', 'quelque', 'demeure', 'attache', 'souffre', 'pénètre', 'périsse']\n",
      "['subsiste', 'changent', 'jeunesse', 'rapporte', 'Pourtant', 'meilleur', 'immortel']\n",
      "['désormais']\n"
     ]
    }
   ],
   "source": [
    "for i in range(2,10):\n",
    "    print(find_all_the_words_with_the_size(i, poesie_francaise))"
   ]
  },
  {
   "cell_type": "markdown",
   "metadata": {},
   "source": [
    "### 5. Display the first word"
   ]
  },
  {
   "cell_type": "code",
   "execution_count": 70,
   "metadata": {},
   "outputs": [],
   "source": [
    "def display_first_word_of_a_line(text):\n",
    "    first = [text.split()[0]]\n",
    "    return first"
   ]
  },
  {
   "cell_type": "code",
   "execution_count": 71,
   "metadata": {},
   "outputs": [
    {
     "name": "stdout",
     "output_type": "stream",
     "text": [
      "['Python']\n",
      "['Christmas']\n",
      "['Seb']\n",
      "['Le']\n"
     ]
    }
   ],
   "source": [
    "print(display_first_word_of_a_line('Python is better than Pytho. Sebas prefers Pytho. It is short'))\n",
    "print(display_first_word_of_a_line('Christmas without Python is like Santa Claus without gifts'))\n",
    "print(display_first_word_of_a_line( 'Seb will miss all his students for Christmas and he will hope that they will get job'))\n",
    "print(display_first_word_of_a_line(poesie_francaise))"
   ]
  },
  {
   "cell_type": "markdown",
   "metadata": {},
   "source": [
    "### 6. Check Decimal with 3 percision point"
   ]
  },
  {
   "cell_type": "code",
   "execution_count": 72,
   "metadata": {},
   "outputs": [],
   "source": [
    "def is_it_a_decimal_with_a_precision_of_3(num):\n",
    "    digit_3 = '[0-9]{1}[.]+[0-9]{3}$'\n",
    "    if re.match(digit_3,num):\n",
    "        return True\n",
    "    else:\n",
    "        return False"
   ]
  },
  {
   "cell_type": "code",
   "execution_count": 73,
   "metadata": {},
   "outputs": [
    {
     "name": "stdout",
     "output_type": "stream",
     "text": [
      "True\n",
      "True\n",
      "None\n",
      "None\n",
      "None\n"
     ]
    }
   ],
   "source": [
    "print(is_it_a_decimal_with_a_precision_of_3(\"1.233\"))\n",
    "print(is_it_a_decimal_with_a_precision_of_3(\"1.000\"))\n",
    "print(is_it_a_decimal_with_a_precision_of_3(\"1.2331\"))\n",
    "print(is_it_a_decimal_with_a_precision_of_3(\"seb\"))\n",
    "print(is_it_a_decimal_with_a_precision_of_3(\"1.1\"))"
   ]
  },
  {
   "cell_type": "code",
   "execution_count": null,
   "metadata": {},
   "outputs": [],
   "source": []
  }
 ],
 "metadata": {
  "kernelspec": {
   "display_name": "Python 3",
   "language": "python",
   "name": "python3"
  },
  "language_info": {
   "codemirror_mode": {
    "name": "ipython",
    "version": 3
   },
   "file_extension": ".py",
   "mimetype": "text/x-python",
   "name": "python",
   "nbconvert_exporter": "python",
   "pygments_lexer": "ipython3",
   "version": "3.7.6"
  }
 },
 "nbformat": 4,
 "nbformat_minor": 4
}
