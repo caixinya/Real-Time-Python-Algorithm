{
 "cells": [
  {
   "cell_type": "code",
   "execution_count": 1,
   "metadata": {},
   "outputs": [],
   "source": [
    "k = 2 # capacity for the bus\n",
    "p = [1,2,3,4] # people waiting at the bus stop and the corresponding max waiting time\n",
    "q = [1,3,4] #time the bus will come"
   ]
  },
  {
   "cell_type": "code",
   "execution_count": 2,
   "metadata": {},
   "outputs": [],
   "source": [
    "import heapq"
   ]
  },
  {
   "cell_type": "code",
   "execution_count": 3,
   "metadata": {},
   "outputs": [],
   "source": [
    "def kthPerson(k, p, q): # find the kth person get into the bus when the bus comes\n",
    "    result = [0]*len(q)\n",
    "    if k > len(p): #first case: if the bus can fit more than the crowds\n",
    "        return(result)\n",
    "    \n",
    "    get_in_bus = p[:k] # make the first bus regardless, exclusive on right\n",
    "    waiting_bus = p[k:] # the rest people at bus stop\n",
    "    last_person = k\n",
    "    heapq.heapify(get_in_bus)\n",
    "    \n",
    "    index_q = list(range(0,len(q)))\n",
    "    q = list(map(lambda x,y: (x,y), q, index_q))\n",
    "    new_q = sorted(q)\n",
    "\n",
    "    for i in new_q:\n",
    "        while i[0] > get_in_bus[0] and len(waiting_bus) > 0:\n",
    "            heapq.heapreplace(get_in_bus,waiting_bus.pop(0))\n",
    "            last_person += 1\n",
    "        if i[0] <= get_in_bus[0]: # if exhasts the list still not find the person\n",
    "            result[i[1]] = last_person\n",
    "        else:\n",
    "            result[i[1]] = 0\n",
    "    return(result)"
   ]
  },
  {
   "cell_type": "code",
   "execution_count": 4,
   "metadata": {},
   "outputs": [
    {
     "data": {
      "text/plain": [
       "[2, 4, 0]"
      ]
     },
     "execution_count": 4,
     "metadata": {},
     "output_type": "execute_result"
    }
   ],
   "source": [
    "kthPerson(k, p, q)"
   ]
  },
  {
   "cell_type": "code",
   "execution_count": null,
   "metadata": {},
   "outputs": [],
   "source": []
  }
 ],
 "metadata": {
  "kernelspec": {
   "display_name": "Python 3",
   "language": "python",
   "name": "python3"
  },
  "language_info": {
   "codemirror_mode": {
    "name": "ipython",
    "version": 3
   },
   "file_extension": ".py",
   "mimetype": "text/x-python",
   "name": "python",
   "nbconvert_exporter": "python",
   "pygments_lexer": "ipython3",
   "version": "3.7.6"
  }
 },
 "nbformat": 4,
 "nbformat_minor": 4
}
